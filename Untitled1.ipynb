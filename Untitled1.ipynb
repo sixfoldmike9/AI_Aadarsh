{
  "nbformat": 4,
  "nbformat_minor": 0,
  "metadata": {
    "colab": {
      "provenance": [],
      "authorship_tag": "ABX9TyNZOlrP+0ycAuFGWozqgqQq",
      "include_colab_link": true
    },
    "kernelspec": {
      "name": "python3",
      "display_name": "Python 3"
    },
    "language_info": {
      "name": "python"
    }
  },
  "cells": [
    {
      "cell_type": "markdown",
      "metadata": {
        "id": "view-in-github",
        "colab_type": "text"
      },
      "source": [
        "<a href=\"https://colab.research.google.com/github/sixfoldmike9/AI_Aadarsh/blob/main/Untitled1.ipynb\" target=\"_parent\"><img src=\"https://colab.research.google.com/assets/colab-badge.svg\" alt=\"Open In Colab\"/></a>"
      ]
    },
    {
      "cell_type": "code",
      "source": [
        "A=\"Aarya atanki\"\n",
        "\n",
        "A[::1]"
      ],
      "metadata": {
        "colab": {
          "base_uri": "https://localhost:8080/",
          "height": 36
        },
        "id": "s-BlQQtWfN-Z",
        "outputId": "94da25b5-43c5-44f0-a657-c81cd082b21d"
      },
      "execution_count": 9,
      "outputs": [
        {
          "output_type": "execute_result",
          "data": {
            "text/plain": [
              "'Aarya atanki'"
            ],
            "application/vnd.google.colaboratory.intrinsic+json": {
              "type": "string"
            }
          },
          "metadata": {},
          "execution_count": 9
        }
      ]
    },
    {
      "cell_type": "code",
      "source": [
        "dir(A)"
      ],
      "metadata": {
        "colab": {
          "base_uri": "https://localhost:8080/"
        },
        "collapsed": true,
        "id": "D9XTqmbzhB-M",
        "outputId": "247db1b6-bcbc-433b-c6be-ec29fcc9b0a7"
      },
      "execution_count": 13,
      "outputs": [
        {
          "output_type": "execute_result",
          "data": {
            "text/plain": [
              "['__add__',\n",
              " '__class__',\n",
              " '__contains__',\n",
              " '__delattr__',\n",
              " '__dir__',\n",
              " '__doc__',\n",
              " '__eq__',\n",
              " '__format__',\n",
              " '__ge__',\n",
              " '__getattribute__',\n",
              " '__getitem__',\n",
              " '__getnewargs__',\n",
              " '__gt__',\n",
              " '__hash__',\n",
              " '__init__',\n",
              " '__init_subclass__',\n",
              " '__iter__',\n",
              " '__le__',\n",
              " '__len__',\n",
              " '__lt__',\n",
              " '__mod__',\n",
              " '__mul__',\n",
              " '__ne__',\n",
              " '__new__',\n",
              " '__reduce__',\n",
              " '__reduce_ex__',\n",
              " '__repr__',\n",
              " '__rmod__',\n",
              " '__rmul__',\n",
              " '__setattr__',\n",
              " '__sizeof__',\n",
              " '__str__',\n",
              " '__subclasshook__',\n",
              " 'capitalize',\n",
              " 'casefold',\n",
              " 'center',\n",
              " 'count',\n",
              " 'encode',\n",
              " 'endswith',\n",
              " 'expandtabs',\n",
              " 'find',\n",
              " 'format',\n",
              " 'format_map',\n",
              " 'index',\n",
              " 'isalnum',\n",
              " 'isalpha',\n",
              " 'isascii',\n",
              " 'isdecimal',\n",
              " 'isdigit',\n",
              " 'isidentifier',\n",
              " 'islower',\n",
              " 'isnumeric',\n",
              " 'isprintable',\n",
              " 'isspace',\n",
              " 'istitle',\n",
              " 'isupper',\n",
              " 'join',\n",
              " 'ljust',\n",
              " 'lower',\n",
              " 'lstrip',\n",
              " 'maketrans',\n",
              " 'partition',\n",
              " 'removeprefix',\n",
              " 'removesuffix',\n",
              " 'replace',\n",
              " 'rfind',\n",
              " 'rindex',\n",
              " 'rjust',\n",
              " 'rpartition',\n",
              " 'rsplit',\n",
              " 'rstrip',\n",
              " 'split',\n",
              " 'splitlines',\n",
              " 'startswith',\n",
              " 'strip',\n",
              " 'swapcase',\n",
              " 'title',\n",
              " 'translate',\n",
              " 'upper',\n",
              " 'zfill']"
            ]
          },
          "metadata": {},
          "execution_count": 13
        }
      ]
    },
    {
      "cell_type": "code",
      "source": [
        "A.rsplit()"
      ],
      "metadata": {
        "colab": {
          "base_uri": "https://localhost:8080/"
        },
        "id": "nYkRp4_QhV5P",
        "outputId": "60d292a3-081b-40b7-82be-1be1b08f00a5"
      },
      "execution_count": 14,
      "outputs": [
        {
          "output_type": "execute_result",
          "data": {
            "text/plain": [
              "['Aarya', 'atanki']"
            ]
          },
          "metadata": {},
          "execution_count": 14
        }
      ]
    },
    {
      "cell_type": "code",
      "source": [
        "A.rstrip()"
      ],
      "metadata": {
        "colab": {
          "base_uri": "https://localhost:8080/",
          "height": 36
        },
        "id": "H0GHVo0Thb8Q",
        "outputId": "62855106-4766-4087-fb8e-a815d5333590"
      },
      "execution_count": 15,
      "outputs": [
        {
          "output_type": "execute_result",
          "data": {
            "text/plain": [
              "'Aarya atanki'"
            ],
            "application/vnd.google.colaboratory.intrinsic+json": {
              "type": "string"
            }
          },
          "metadata": {},
          "execution_count": 15
        }
      ]
    },
    {
      "cell_type": "code",
      "source": [
        "B={1,2,3,4,5,4,3,2,1}\n",
        "type(B)\n",
        "B"
      ],
      "metadata": {
        "colab": {
          "base_uri": "https://localhost:8080/"
        },
        "id": "824TdA_whid9",
        "outputId": "65215895-eec6-4690-fe6c-4c0bdc4b8bb1"
      },
      "execution_count": 19,
      "outputs": [
        {
          "output_type": "execute_result",
          "data": {
            "text/plain": [
              "{1, 2, 3, 4, 5}"
            ]
          },
          "metadata": {},
          "execution_count": 19
        }
      ]
    },
    {
      "cell_type": "code",
      "source": [
        "B=set\n",
        "B"
      ],
      "metadata": {
        "colab": {
          "base_uri": "https://localhost:8080/"
        },
        "id": "b3_Aaa5qjAZA",
        "outputId": "e52293d3-dc73-4ad5-83b4-7a08a4bedf19"
      },
      "execution_count": 18,
      "outputs": [
        {
          "output_type": "execute_result",
          "data": {
            "text/plain": [
              "set"
            ]
          },
          "metadata": {},
          "execution_count": 18
        }
      ]
    },
    {
      "cell_type": "code",
      "source": [
        "D= dict()\n",
        "type(D)\n",
        "D={1:\"Aadarsh Kohade\",5:\"Kohade\"}\n",
        "print(D[1])"
      ],
      "metadata": {
        "colab": {
          "base_uri": "https://localhost:8080/"
        },
        "id": "UEWwPfFdjDPi",
        "outputId": "383a7891-b238-4fb0-d9df-5d601f835dbb"
      },
      "execution_count": 25,
      "outputs": [
        {
          "output_type": "stream",
          "name": "stdout",
          "text": [
            "Aadarsh Kohade\n"
          ]
        }
      ]
    },
    {
      "cell_type": "code",
      "source": [
        "D.keys()"
      ],
      "metadata": {
        "colab": {
          "base_uri": "https://localhost:8080/"
        },
        "id": "deXg6YOEjfaY",
        "outputId": "78cab716-4450-4207-d857-521a563dfb28"
      },
      "execution_count": 26,
      "outputs": [
        {
          "output_type": "execute_result",
          "data": {
            "text/plain": [
              "dict_keys([1, 5])"
            ]
          },
          "metadata": {},
          "execution_count": 26
        }
      ]
    },
    {
      "cell_type": "code",
      "source": [
        "D.items()"
      ],
      "metadata": {
        "colab": {
          "base_uri": "https://localhost:8080/"
        },
        "id": "9mCE9yQtj3Rk",
        "outputId": "ad4be040-be61-4e1e-e309-b501fef1ca43"
      },
      "execution_count": 27,
      "outputs": [
        {
          "output_type": "execute_result",
          "data": {
            "text/plain": [
              "dict_items([(1, 'Aadarsh Kohade'), (5, 'Kohade')])"
            ]
          },
          "metadata": {},
          "execution_count": 27
        }
      ]
    },
    {
      "cell_type": "code",
      "source": [
        "D.values()"
      ],
      "metadata": {
        "colab": {
          "base_uri": "https://localhost:8080/"
        },
        "id": "UMHVSab1j5j8",
        "outputId": "dcfdf2ac-ba1a-42b1-e828-361a77218052"
      },
      "execution_count": 28,
      "outputs": [
        {
          "output_type": "execute_result",
          "data": {
            "text/plain": [
              "dict_values(['Aadarsh Kohade', 'Kohade'])"
            ]
          },
          "metadata": {},
          "execution_count": 28
        }
      ]
    },
    {
      "cell_type": "code",
      "source": [
        "print(list[range(10)])"
      ],
      "metadata": {
        "colab": {
          "base_uri": "https://localhost:8080/"
        },
        "id": "X3Q3KCDwkGgs",
        "outputId": "279c62b7-7750-4e27-b318-ddf4c5495d3e"
      },
      "execution_count": 30,
      "outputs": [
        {
          "output_type": "stream",
          "name": "stdout",
          "text": [
            "list[range(0, 10)]\n"
          ]
        }
      ]
    },
    {
      "cell_type": "code",
      "source": [
        "list(range(10))"
      ],
      "metadata": {
        "colab": {
          "base_uri": "https://localhost:8080/"
        },
        "id": "dkTt1rKpkRYG",
        "outputId": "16c36678-b513-4839-bdf3-ed57a7d3224f"
      },
      "execution_count": 31,
      "outputs": [
        {
          "output_type": "execute_result",
          "data": {
            "text/plain": [
              "[0, 1, 2, 3, 4, 5, 6, 7, 8, 9]"
            ]
          },
          "metadata": {},
          "execution_count": 31
        }
      ]
    },
    {
      "cell_type": "code",
      "source": [
        "list{range(10)}"
      ],
      "metadata": {
        "colab": {
          "base_uri": "https://localhost:8080/",
          "height": 106
        },
        "id": "_HBtoRUkkcBt",
        "outputId": "50a005e5-e6c8-44c9-acca-89cc2d132ba5"
      },
      "execution_count": 32,
      "outputs": [
        {
          "output_type": "error",
          "ename": "SyntaxError",
          "evalue": "invalid syntax (<ipython-input-32-acd6552124a4>, line 1)",
          "traceback": [
            "\u001b[0;36m  File \u001b[0;32m\"<ipython-input-32-acd6552124a4>\"\u001b[0;36m, line \u001b[0;32m1\u001b[0m\n\u001b[0;31m    list{range(10)}\u001b[0m\n\u001b[0m        ^\u001b[0m\n\u001b[0;31mSyntaxError\u001b[0m\u001b[0;31m:\u001b[0m invalid syntax\n"
          ]
        }
      ]
    },
    {
      "cell_type": "code",
      "source": [
        "import keyword\n",
        "print(len(keyword.kwlist))"
      ],
      "metadata": {
        "colab": {
          "base_uri": "https://localhost:8080/"
        },
        "id": "_OjfX4qmke2F",
        "outputId": "68532bb3-6d53-442c-e2b3-039d821d2bdb"
      },
      "execution_count": 35,
      "outputs": [
        {
          "output_type": "stream",
          "name": "stdout",
          "text": [
            "35\n"
          ]
        }
      ]
    },
    {
      "cell_type": "code",
      "source": [
        "print(keyword.kwlist)"
      ],
      "metadata": {
        "colab": {
          "base_uri": "https://localhost:8080/"
        },
        "id": "IMB76-pikn5N",
        "outputId": "4089bb20-01ce-4a66-9ff4-7fb8fb1dcdb4"
      },
      "execution_count": 36,
      "outputs": [
        {
          "output_type": "stream",
          "name": "stdout",
          "text": [
            "['False', 'None', 'True', 'and', 'as', 'assert', 'async', 'await', 'break', 'class', 'continue', 'def', 'del', 'elif', 'else', 'except', 'finally', 'for', 'from', 'global', 'if', 'import', 'in', 'is', 'lambda', 'nonlocal', 'not', 'or', 'pass', 'raise', 'return', 'try', 'while', 'with', 'yield']\n"
          ]
        }
      ]
    },
    {
      "cell_type": "code",
      "source": [
        "list(range(10))"
      ],
      "metadata": {
        "colab": {
          "base_uri": "https://localhost:8080/"
        },
        "id": "krHNzM0qkqT-",
        "outputId": "e7ee88b5-7fbe-40a4-a2ee-cc3661004b77"
      },
      "execution_count": 37,
      "outputs": [
        {
          "output_type": "execute_result",
          "data": {
            "text/plain": [
              "[0, 1, 2, 3, 4, 5, 6, 7, 8, 9]"
            ]
          },
          "metadata": {},
          "execution_count": 37
        }
      ]
    },
    {
      "cell_type": "code",
      "source": [
        "1 in list(range(10))"
      ],
      "metadata": {
        "colab": {
          "base_uri": "https://localhost:8080/"
        },
        "id": "rgCTpNeplDWF",
        "outputId": "3c8f7598-d76c-49f2-e75a-ee9ba3b5422a"
      },
      "execution_count": 38,
      "outputs": [
        {
          "output_type": "execute_result",
          "data": {
            "text/plain": [
              "True"
            ]
          },
          "metadata": {},
          "execution_count": 38
        }
      ]
    },
    {
      "cell_type": "code",
      "source": [
        "for i in range(1,10):\n",
        "  print(i)"
      ],
      "metadata": {
        "colab": {
          "base_uri": "https://localhost:8080/"
        },
        "id": "rfv9kHPAlGy0",
        "outputId": "2575f8f3-8440-40c4-a861-b1901df3a4c1"
      },
      "execution_count": 40,
      "outputs": [
        {
          "output_type": "stream",
          "name": "stdout",
          "text": [
            "1\n",
            "2\n",
            "3\n",
            "4\n",
            "5\n",
            "6\n",
            "7\n",
            "8\n",
            "9\n"
          ]
        }
      ]
    },
    {
      "cell_type": "code",
      "source": [
        "for i in range{0,10}:\n",
        "  print(i)"
      ],
      "metadata": {
        "colab": {
          "base_uri": "https://localhost:8080/",
          "height": 106
        },
        "id": "D3wdUynhlLkw",
        "outputId": "38ef1e0e-b8cb-469d-d03b-f37acb3f8249"
      },
      "execution_count": 42,
      "outputs": [
        {
          "output_type": "error",
          "ename": "SyntaxError",
          "evalue": "invalid syntax (<ipython-input-42-b7b77ff43c75>, line 1)",
          "traceback": [
            "\u001b[0;36m  File \u001b[0;32m\"<ipython-input-42-b7b77ff43c75>\"\u001b[0;36m, line \u001b[0;32m1\u001b[0m\n\u001b[0;31m    for i in range{0,10}:\u001b[0m\n\u001b[0m                  ^\u001b[0m\n\u001b[0;31mSyntaxError\u001b[0m\u001b[0;31m:\u001b[0m invalid syntax\n"
          ]
        }
      ]
    },
    {
      "cell_type": "code",
      "source": [
        "L={123,\"asjkf;\",9872.987,\"ashfhjk\"}\n",
        "for elements in L:\n",
        "  print(elements)"
      ],
      "metadata": {
        "colab": {
          "base_uri": "https://localhost:8080/"
        },
        "id": "VCjCq5AWlT6t",
        "outputId": "65e3012e-44fb-4f3e-ae19-fbbe081c5596"
      },
      "execution_count": 43,
      "outputs": [
        {
          "output_type": "stream",
          "name": "stdout",
          "text": [
            "123\n",
            "ashfhjk\n",
            "asjkf;\n",
            "9872.987\n"
          ]
        }
      ]
    },
    {
      "cell_type": "code",
      "source": [
        "while(i<13):\n",
        "  print(i)\n",
        "  i=i+1"
      ],
      "metadata": {
        "colab": {
          "base_uri": "https://localhost:8080/"
        },
        "id": "Sv1DHaXxlqDJ",
        "outputId": "f1e14ea3-35d2-4172-ad8e-8f91746208d0"
      },
      "execution_count": 44,
      "outputs": [
        {
          "output_type": "stream",
          "name": "stdout",
          "text": [
            "9\n",
            "10\n",
            "11\n",
            "12\n"
          ]
        }
      ]
    },
    {
      "cell_type": "code",
      "source": [
        "f = open(\"Solo Leveling.txt\", \"r\")\n",
        "f.readlines()\n",
        "spl_chr=\"/,\\n#\"\n",
        "for i in spl_chr:\n",
        "  f.read().replace(i,\"\")\n",
        "  print(f.read())\n",
        "\n"
      ],
      "metadata": {
        "colab": {
          "base_uri": "https://localhost:8080/"
        },
        "id": "YtF3yIx7mHRn",
        "outputId": "be0c2366-d10b-46c6-e0ad-7b8620584ae6"
      },
      "execution_count": 52,
      "outputs": [
        {
          "output_type": "stream",
          "name": "stdout",
          "text": [
            "\n",
            "\n",
            "\n",
            "\n"
          ]
        }
      ]
    },
    {
      "cell_type": "code",
      "source": [
        "print(f)"
      ],
      "metadata": {
        "colab": {
          "base_uri": "https://localhost:8080/"
        },
        "id": "RjP8u2w1ouIL",
        "outputId": "8b046861-e511-48fc-b2f5-791911890118"
      },
      "execution_count": 53,
      "outputs": [
        {
          "output_type": "stream",
          "name": "stdout",
          "text": [
            "<_io.TextIOWrapper name='Solo Leveling.txt' mode='r' encoding='UTF-8'>\n"
          ]
        }
      ]
    },
    {
      "cell_type": "code",
      "source": [
        "def word_frequency(filename):\n",
        "\n",
        "    try:\n",
        "\n",
        "        with open(filename, 'r') as f:\n",
        "            text = f.read()\n",
        "\n",
        "\n",
        "        clean_text = \"\"\n",
        "        for character in text:\n",
        "            if character.isalnum() or character.isspace():\n",
        "                clean_text += character.lower()\n",
        "\n",
        "\n",
        "        words = clean_text.split()\n",
        "\n",
        "\n",
        "        word_counts = {}\n",
        "        for word in words:\n",
        "            if word in word_counts:\n",
        "                word_counts[word] += 1\n",
        "            else:\n",
        "                word_counts[word] = 1\n",
        "\n",
        "        return word_counts\n",
        "\n",
        "    except FileNotFoundError:\n",
        "        print(f\"Error: The file '{filename}' was not found.\")\n",
        "        return None\n",
        "\n",
        "filename = input(\"Enter the filename: \")\n",
        "\n",
        "\n",
        "counts = word_frequency(filename)\n",
        "\n",
        "\n",
        "if counts:\n",
        "    for word, count in counts.items():\n",
        "        print(f\"'{word}': {count}\")"
      ],
      "metadata": {
        "colab": {
          "base_uri": "https://localhost:8080/"
        },
        "id": "9EO4vZiTqczj",
        "outputId": "c4ad9a74-0ce6-4c4e-a5b8-6c08e71d3279"
      },
      "execution_count": 57,
      "outputs": [
        {
          "output_type": "stream",
          "name": "stdout",
          "text": [
            "Enter the filename: Solo Leveling.txt\n",
            "'solo': 4\n",
            "'leveling': 3\n",
            "'also': 6\n",
            "'alternatively': 1\n",
            "'translated': 1\n",
            "'as': 17\n",
            "'only': 7\n",
            "'i': 1\n",
            "'level': 4\n",
            "'up': 3\n",
            "'korean': 3\n",
            "'나': 1\n",
            "'혼자만': 1\n",
            "'레벨업': 1\n",
            "'rr': 1\n",
            "'na': 1\n",
            "'honjaman': 1\n",
            "'rebeleop': 1\n",
            "'is': 20\n",
            "'a': 31\n",
            "'south': 1\n",
            "'web': 1\n",
            "'novel': 2\n",
            "'written': 1\n",
            "'by': 17\n",
            "'chugong': 1\n",
            "'it': 5\n",
            "'was': 11\n",
            "'serialized': 2\n",
            "'in': 16\n",
            "'kakaos': 1\n",
            "'digital': 1\n",
            "'comic': 1\n",
            "'and': 27\n",
            "'fiction': 1\n",
            "'platform': 1\n",
            "'kakaopage': 2\n",
            "'beginning': 1\n",
            "'on': 5\n",
            "'july': 1\n",
            "'25': 1\n",
            "'2016': 2\n",
            "'later': 1\n",
            "'published': 2\n",
            "'dc': 2\n",
            "'media': 2\n",
            "'under': 1\n",
            "'their': 3\n",
            "'papyrus': 1\n",
            "'label': 1\n",
            "'since': 1\n",
            "'november': 1\n",
            "'4': 2\n",
            "'the': 57\n",
            "'has': 10\n",
            "'been': 8\n",
            "'licensed': 2\n",
            "'english': 3\n",
            "'yen': 2\n",
            "'press1': 1\n",
            "'webtoon': 3\n",
            "'adaptation': 3\n",
            "'of': 30\n",
            "'first': 4\n",
            "'march': 3\n",
            "'2018': 1\n",
            "'illustrated': 1\n",
            "'jang': 1\n",
            "'sungrak': 1\n",
            "'dubu': 1\n",
            "'webtoons': 1\n",
            "'season': 3\n",
            "'concluded': 1\n",
            "'19': 1\n",
            "'2020': 2\n",
            "'followed': 1\n",
            "'its': 4\n",
            "'second': 3\n",
            "'which': 3\n",
            "'released': 2\n",
            "'from': 11\n",
            "'august': 2\n",
            "'to': 24\n",
            "'december': 1\n",
            "'20212': 1\n",
            "'press': 1\n",
            "'individual': 1\n",
            "'chapters': 1\n",
            "'have': 4\n",
            "'collected': 1\n",
            "'eleven': 1\n",
            "'volumes': 1\n",
            "'june': 1\n",
            "'20243': 1\n",
            "'an': 13\n",
            "'anime': 1\n",
            "'television': 1\n",
            "'series': 2\n",
            "'produced': 1\n",
            "'a1': 1\n",
            "'pictures': 1\n",
            "'aired': 1\n",
            "'january': 1\n",
            "'2024': 2\n",
            "'entitled': 1\n",
            "'arise': 1\n",
            "'shadow': 19\n",
            "'announced': 1\n",
            "'drama': 1\n",
            "'development': 1\n",
            "'spinoff': 1\n",
            "'ragnarok': 1\n",
            "'premiered': 1\n",
            "'roleplaying': 1\n",
            "'video': 1\n",
            "'game': 1\n",
            "'titled': 1\n",
            "'levelingarise': 1\n",
            "'netmarble4': 1\n",
            "'plot': 1\n",
            "'world': 2\n",
            "'where': 1\n",
            "'hunters': 6\n",
            "'human': 1\n",
            "'warriors': 2\n",
            "'who': 4\n",
            "'possess': 1\n",
            "'supernatural': 1\n",
            "'abilities': 2\n",
            "'must': 1\n",
            "'battle': 4\n",
            "'deadly': 1\n",
            "'monsters': 2\n",
            "'protect': 1\n",
            "'mankind': 2\n",
            "'certain': 1\n",
            "'annihilation': 1\n",
            "'notoriously': 1\n",
            "'weak': 2\n",
            "'hunter': 7\n",
            "'named': 3\n",
            "'sung': 3\n",
            "'jinwoo': 13\n",
            "'finds': 2\n",
            "'himself': 3\n",
            "'seemingly': 1\n",
            "'endless': 1\n",
            "'struggle': 1\n",
            "'for': 4\n",
            "'survival': 1\n",
            "'one': 5\n",
            "'day': 1\n",
            "'after': 4\n",
            "'narrowly': 1\n",
            "'surviving': 1\n",
            "'overwhelmingly': 1\n",
            "'powerful': 6\n",
            "'double': 1\n",
            "'dungeon': 2\n",
            "'that': 16\n",
            "'nearly': 2\n",
            "'wipes': 1\n",
            "'out': 3\n",
            "'his': 8\n",
            "'entire': 2\n",
            "'party': 1\n",
            "'mysterious': 1\n",
            "'program': 2\n",
            "'called': 2\n",
            "'system': 3\n",
            "'chooses': 1\n",
            "'him': 7\n",
            "'sole': 1\n",
            "'player': 3\n",
            "'turn': 1\n",
            "'gives': 1\n",
            "'unique': 2\n",
            "'ability': 2\n",
            "'strength': 2\n",
            "'this': 3\n",
            "'something': 1\n",
            "'no': 1\n",
            "'other': 3\n",
            "'able': 1\n",
            "'do': 1\n",
            "'are': 4\n",
            "'set': 1\n",
            "'once': 1\n",
            "'they': 3\n",
            "'awaken': 1\n",
            "'then': 1\n",
            "'sets': 1\n",
            "'journey': 1\n",
            "'he': 21\n",
            "'fights': 2\n",
            "'against': 1\n",
            "'all': 4\n",
            "'kinds': 1\n",
            "'enemies': 1\n",
            "'both': 2\n",
            "'man': 1\n",
            "'monster': 1\n",
            "'discover': 1\n",
            "'secrets': 1\n",
            "'dungeons': 1\n",
            "'true': 1\n",
            "'source': 1\n",
            "'powers': 1\n",
            "'soon': 1\n",
            "'discovers': 1\n",
            "'chosen': 1\n",
            "'inherit': 1\n",
            "'position': 5\n",
            "'monarch': 5\n",
            "'essentially': 1\n",
            "'turning': 1\n",
            "'into': 1\n",
            "'immortal': 2\n",
            "'necromancer': 1\n",
            "'absolute': 1\n",
            "'rule': 1\n",
            "'over': 1\n",
            "'dead': 1\n",
            "'save': 1\n",
            "'humanity': 1\n",
            "'monarchs': 2\n",
            "'trying': 1\n",
            "'kill': 4\n",
            "'wipe': 1\n",
            "'humans': 1\n",
            "'characters': 1\n",
            "'voiced': 1\n",
            "'taito': 1\n",
            "'ban5': 1\n",
            "'japanese': 2\n",
            "'aleks': 1\n",
            "'le6': 1\n",
            "'name': 2\n",
            "'shun': 2\n",
            "'mizushino': 2\n",
            "'水篠': 1\n",
            "'旬': 1\n",
            "'성진우': 1\n",
            "'seong': 1\n",
            "'jinu': 1\n",
            "'main': 1\n",
            "'protagonist': 1\n",
            "'originally': 1\n",
            "'infamously': 1\n",
            "'erank': 1\n",
            "'gets': 1\n",
            "'chance': 1\n",
            "'lifetime': 1\n",
            "'when': 1\n",
            "'selected': 1\n",
            "'magical': 1\n",
            "'gains': 1\n",
            "'grow': 1\n",
            "'without': 1\n",
            "'limit': 1\n",
            "'taking': 1\n",
            "'advantage': 1\n",
            "'new': 1\n",
            "'power': 5\n",
            "'offered': 1\n",
            "'eventually': 2\n",
            "'rises': 1\n",
            "'become': 1\n",
            "'humanitys': 1\n",
            "'greatest': 1\n",
            "'even': 2\n",
            "'surpassing': 1\n",
            "'national': 1\n",
            "'but': 3\n",
            "'be': 3\n",
            "'major': 1\n",
            "'war': 1\n",
            "'going': 1\n",
            "'forever': 1\n",
            "'between': 1\n",
            "'rulers': 1\n",
            "'two': 1\n",
            "'groups': 1\n",
            "'unbelievably': 1\n",
            "'humanoids': 1\n",
            "'own': 1\n",
            "'agendas': 1\n",
            "'with': 7\n",
            "'inherited': 1\n",
            "'ashborns': 3\n",
            "'thereby': 1\n",
            "'becoming': 1\n",
            "'army': 1\n",
            "'race': 1\n",
            "'were': 2\n",
            "'resurrected': 1\n",
            "'extraction': 1\n",
            "'mana': 1\n",
            "'unlike': 1\n",
            "'summons': 1\n",
            "'capable': 1\n",
            "'growth': 1\n",
            "'speech': 1\n",
            "'highest': 1\n",
            "'amount': 1\n",
            "'point': 1\n",
            "'sheer': 1\n",
            "'numbers': 1\n",
            "'surpass': 1\n",
            "'top': 1\n",
            "'guilds': 2\n",
            "'there': 1\n",
            "'multiple': 1\n",
            "'grades': 1\n",
            "'soldiers': 2\n",
            "'including': 1\n",
            "'basic': 1\n",
            "'grade': 11\n",
            "'normal': 1\n",
            "'elite': 3\n",
            "'knight': 5\n",
            "'commandergeneral': 2\n",
            "'marshalcommander': 1\n",
            "'grand': 2\n",
            "'marshal': 4\n",
            "'can': 1\n",
            "'speak': 1\n",
            "'igris': 8\n",
            "'bloodred': 1\n",
            "'commander': 1\n",
            "'highranking': 1\n",
            "'exceptional': 1\n",
            "'swordsmanship': 1\n",
            "'loyalty': 1\n",
            "'holding': 3\n",
            "'rivals': 2\n",
            "'beru': 4\n",
            "'overshadowed': 2\n",
            "'bellion': 6\n",
            "'kneels': 1\n",
            "'before': 1\n",
            "'master': 1\n",
            "'battles': 1\n",
            "'dislikes': 1\n",
            "'irons': 1\n",
            "'foolish': 1\n",
            "'behavior': 1\n",
            "'despite': 1\n",
            "'being': 2\n",
            "'lover': 1\n",
            "'values': 1\n",
            "'education': 1\n",
            "'argues': 1\n",
            "'about': 2\n",
            "'suhos': 1\n",
            "'schooling': 1\n",
            "'most': 2\n",
            "'knights7': 1\n",
            "'ant': 2\n",
            "'extracted': 3\n",
            "'king': 1\n",
            "'srank': 3\n",
            "'beast': 1\n",
            "'overpowered': 1\n",
            "'ease': 1\n",
            "'killed': 3\n",
            "'goto': 1\n",
            "'ryuji': 1\n",
            "'incapacitated': 1\n",
            "'cha': 1\n",
            "'haein': 1\n",
            "'until': 1\n",
            "'managed': 1\n",
            "'shadows': 1\n",
            "'very': 1\n",
            "'fond': 1\n",
            "'streak': 1\n",
            "'jinwoos': 2\n",
            "'son': 1\n",
            "'suho': 1\n",
            "'tusk': 1\n",
            "'high': 1\n",
            "'orc': 1\n",
            "'shaman': 1\n",
            "'previously': 1\n",
            "'known': 2\n",
            "'kargalgan': 1\n",
            "'boss': 1\n",
            "'arank': 2\n",
            "'defeated': 1\n",
            "'strike': 1\n",
            "'team': 1\n",
            "'realized': 1\n",
            "'same': 1\n",
            "'iron': 3\n",
            "'kim': 3\n",
            "'chul': 2\n",
            "'during': 2\n",
            "'fight': 1\n",
            "'baruka': 2\n",
            "'crazed': 1\n",
            "'attempted': 1\n",
            "'knowing': 1\n",
            "'would': 1\n",
            "'hard': 1\n",
            "'time': 1\n",
            "'defeating': 1\n",
            "'help': 1\n",
            "'quickly': 1\n",
            "'chuls': 1\n",
            "'corpse': 2\n",
            "'idiotic': 1\n",
            "'dunced': 1\n",
            "'copying': 1\n",
            "'habit': 1\n",
            "'bringing': 1\n",
            "'head': 1\n",
            "'much': 1\n",
            "'knights': 1\n",
            "'annoyance': 1\n",
            "'tank': 3\n",
            "'ice': 1\n",
            "'bear': 1\n",
            "'encountered': 1\n",
            "'red': 1\n",
            "'gate': 1\n",
            "'incident': 1\n",
            "'strong': 1\n",
            "'enough': 1\n",
            "'plow': 1\n",
            "'way': 1\n",
            "'through': 1\n",
            "'horde': 1\n",
            "'demons': 1\n",
            "'like': 1\n",
            "'bowling': 1\n",
            "'pins': 1\n",
            "'naga': 1\n",
            "'hit': 1\n",
            "'kaisel': 4\n",
            "'kaisellin': 1\n",
            "'wyvern': 2\n",
            "'baran': 2\n",
            "'used': 2\n",
            "'mount': 1\n",
            "'kaisellins': 1\n",
            "'didnt': 1\n",
            "'remember': 1\n",
            "'wyverns': 1\n",
            "'original': 1\n",
            "'unfortunately': 1\n",
            "'due': 1\n",
            "'fact': 1\n",
            "'good': 1\n",
            "'flying': 1\n",
            "'not': 1\n",
            "'fighting': 1\n",
            "'rarely': 1\n",
            "'ever': 3\n",
            "'story': 1\n",
            "'progressed': 1\n",
            "'summoned': 1\n",
            "'whenever': 1\n",
            "'needed': 1\n",
            "'travel': 1\n",
            "'somewhere': 1\n",
            "'air': 1\n",
            "'couldnt': 1\n",
            "'use': 1\n",
            "'exchange': 1\n",
            "'servant': 1\n",
            "'ashborn': 1\n",
            "'strongest': 1\n",
            "'existence': 1\n",
            "'born': 1\n",
            "'eons': 1\n",
            "'ago': 1\n",
            "'fruit': 1\n",
            "'tree': 2\n",
            "'mystical': 1\n",
            "'so': 1\n",
            "'large': 1\n",
            "'could': 1\n",
            "'blanket': 1\n",
            "'sky': 1\n",
            "'branches': 1\n",
            "'alone': 1\n",
            "'following': 1\n",
            "'became': 1\n",
            "'lieutenant': 1\n",
            "'retained': 1\n",
            "'death': 1\n",
            "'soldier': 1\n",
            "'created': 1\n"
          ]
        }
      ]
    },
    {
      "cell_type": "code",
      "source": [],
      "metadata": {
        "id": "9rNG5XHOq9dM"
      },
      "execution_count": null,
      "outputs": []
    }
  ]
}